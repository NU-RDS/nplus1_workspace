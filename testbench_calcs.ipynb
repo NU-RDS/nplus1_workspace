{
 "cells": [
  {
   "cell_type": "code",
   "execution_count": 125,
   "metadata": {},
   "outputs": [],
   "source": [
    "import numpy as np\n",
    "import sympy as sym\n",
    "import matplotlib.pyplot as plt"
   ]
  },
  {
   "cell_type": "code",
   "execution_count": 126,
   "metadata": {},
   "outputs": [],
   "source": [
    "#define symbols\n",
    "#finger pulley and motor pulley radii, joint angles\n",
    "R_p, R_m, th1, th2 = sym.symbols(r'R_p, R_m, \\theta_1, \\theta_2')\n",
    "\n",
    "#link lengths, stall torque (before gearing), gear ratio\n",
    "L1, L2, ts, G = sym.symbols(r'L_1, L_2, \\tau_s, G')\n",
    "\n",
    "#actual values from CAD model and motor data; not configuration dependent\n",
    "subslist = [(L1, 38e-3), (L2, 35e-3), (ts, 0.04), (R_m, 9.5e-3), (R_p, 8.58e-3), (G, 22.6)] #units in N and m"
   ]
  },
  {
   "attachments": {
    "image.png": {
     "image/png": "[encoded data removed]"
    }
   },
   "cell_type": "markdown",
   "metadata": {},
   "source": [
    "## Structure matrix and transmission jacobian\n",
    "\n",
    "#### Definitions:\n",
    "Let...\n",
    "- $\\mathbf{A}$ be the structure matrix\n",
    "- $f$ be the vector of tension forces in the tendons, \n",
    "- $\\theta$ be the joint angle vector,\n",
    "- $\\tau$ be the joint torque vector, \n",
    "- $v$ be the tendon linear velocity vector, \n",
    "- $\\phi$ be the motor angle vector\n",
    "\n",
    "\n",
    "By definition:\n",
    "$\\mathbf{\\tau} = \\mathbf{Af}$\n",
    "\n",
    "and note relation between force and motor torque:\n",
    "\n",
    "$Rf = \\tau_m$  \n",
    "\n",
    "$f=R^{-1}\\tau_m$\n",
    "\n",
    "relation between tendon speed and motor angular speed:\n",
    "\n",
    "$v = R\\dot{\\phi}$\n",
    "\n",
    "Now apply conservation of power:\n",
    "\n",
    "$\n",
    "\\dot{\\theta}^T\\tau = v^Tf\n",
    "$\n",
    "\n",
    "$\n",
    "\\dot{\\theta}^T\\mathbf{Af} = v^Tf\n",
    "$\n",
    "\n",
    "$\n",
    "\\dot{\\theta}^T\\mathbf{A} = v^T\n",
    "$\n",
    "\n",
    "Note the relation between the linear speeds of the tendons and motor angular velocity:\n",
    "$\n",
    "v=R\\dot{\\phi}\n",
    "$\n",
    "\n",
    "To get the joint angle mapping, we can integrate but the constant of integration means the joint and motor\n",
    "angles are relative to a reference point which we can get by using the hardstop.\n",
    "\n",
    "$\n",
    "\\theta^T\\mathbf{A} = \\mathbf{R}\\phi\n",
    "$\n",
    "\n",
    "$\n",
    "\\mathbf{A}^T\\theta = \\mathbf{R}\\phi\n",
    "$\n",
    "\n",
    "$\n",
    "\\theta = {\\mathbf{A}^T}^\\dag \\mathbf{R} \\phi\n",
    "$\n",
    "\n",
    "Therefore, the transmission jacobian is computed: $\\mathbf{T} =  {\\mathbf{A}^T}^\\dag \\mathbf{R} $\n",
    "\n",
    "![image.png](attachment:image.png)\n",
    "\n",
    "Assuming identical finger pulley radii on the routing diagram, we have the structure matrix A:\n",
    "\n",
    "$\\mathbf{A}=\n",
    "\\begin{bmatrix}\n",
    "-R_p & -R_p & R_p \\\\\n",
    "-R_p & R_p & 0 \\\\\n",
    "\\end{bmatrix}\n",
    "$\n",
    "\n",
    "The pseudoinverse of $\\mathbf{A}^T$ is used to compute the transmission jacobian:\n",
    "\n",
    "$\n",
    "{\\mathbf{A}^T}^\\dag =\n",
    "\\begin{bmatrix}\n",
    "-\\frac{1}{3R_p} & -\\frac{1}{3R_p} & \\frac{1}{3R_p} \\\\\n",
    "-\\frac{1}{2R_p} & \\frac{1}{2R_p} & 0 \\\\\n",
    "\\end{bmatrix}\n",
    "$\n",
    "\n",
    "**Note that the pinv() function in sympy doesn't give us the $A^\\dag$ that we want"
   ]
  },
  {
   "cell_type": "code",
   "execution_count": 127,
   "metadata": {},
   "outputs": [],
   "source": [
    "#structure matrix\n",
    "A = sym.Matrix([[-R_p, -R_p, R_p],\n",
    "                [-R_p, R_p, 0]])\n",
    " \n",
    "Atpinv = sym.Matrix([[-1/(3*R_p), -1/(3*R_p), 1/(3*R_p)],\n",
    "                    [-1/(2*R_p), 1/(2*R_p), 0]])\n",
    "\n",
    "Apinv = Atpinv.T\n",
    "\n",
    "# A = sym.Matrix([[R_p, R_p, -R_p],\n",
    "#                 [0, R_p, -R_p]])\n",
    "\n",
    "R = sym.eye(3) * R_m #motor shaft matrix\n",
    "\n",
    "#transmission jacobian\n",
    "T = Atpinv * R"
   ]
  },
  {
   "cell_type": "code",
   "execution_count": 128,
   "metadata": {},
   "outputs": [
    {
     "data": {
      "text/latex": [
       "$\\displaystyle \\left[\\begin{matrix}- R_{p} & - R_{p} & R_{p}\\\\- R_{p} & R_{p} & 0\\end{matrix}\\right]$"
      ],
      "text/plain": [
       "Matrix([\n",
       "[-R_p, -R_p, R_p],\n",
       "[-R_p,  R_p,   0]])"
      ]
     },
     "metadata": {},
     "output_type": "display_data"
    },
    {
     "data": {
      "text/latex": [
       "$\\displaystyle \\left[\\begin{matrix}- \\frac{1}{3 R_{p}} & - \\frac{1}{3 R_{p}} & \\frac{1}{3 R_{p}}\\\\- \\frac{1}{2 R_{p}} & \\frac{1}{2 R_{p}} & 0\\end{matrix}\\right]$"
      ],
      "text/plain": [
       "Matrix([\n",
       "[-1/(3*R_p), -1/(3*R_p), 1/(3*R_p)],\n",
       "[-1/(2*R_p),  1/(2*R_p),         0]])"
      ]
     },
     "metadata": {},
     "output_type": "display_data"
    },
    {
     "data": {
      "text/latex": [
       "$\\displaystyle \\left[\\begin{matrix}- \\frac{R_{m}}{3 R_{p}} & - \\frac{R_{m}}{3 R_{p}} & \\frac{R_{m}}{3 R_{p}}\\\\- \\frac{R_{m}}{2 R_{p}} & \\frac{R_{m}}{2 R_{p}} & 0\\end{matrix}\\right]$"
      ],
      "text/plain": [
       "Matrix([\n",
       "[-R_m/(3*R_p), -R_m/(3*R_p), R_m/(3*R_p)],\n",
       "[-R_m/(2*R_p),  R_m/(2*R_p),           0]])"
      ]
     },
     "metadata": {},
     "output_type": "display_data"
    }
   ],
   "source": [
    "#confirm the structure matrix and the inverse is correct\n",
    "display(A)\n",
    "display(Atpinv)\n",
    "display(T)\n",
    "#display(Atpinv * A.T)"
   ]
  },
  {
   "cell_type": "code",
   "execution_count": 129,
   "metadata": {},
   "outputs": [
    {
     "data": {
      "text/latex": [
       "$\\displaystyle \\left[\\begin{matrix}-0.369075369075369 & -0.369075369075369 & 0.369075369075369\\\\-0.553613053613054 & 0.553613053613054 & 0\\end{matrix}\\right]$"
      ],
      "text/plain": [
       "Matrix([\n",
       "[-0.369075369075369, -0.369075369075369, 0.369075369075369],\n",
       "[-0.553613053613054,  0.553613053613054,                 0]])"
      ]
     },
     "execution_count": 129,
     "metadata": {},
     "output_type": "execute_result"
    }
   ],
   "source": [
    "#transmission matrix motor angular speed -> joint angular speed\n",
    "#note that when using encoders, we should account for the gear ratio, G = 22.6\n",
    "T.subs(subslist) #radii in mm"
   ]
  },
  {
   "cell_type": "markdown",
   "metadata": {},
   "source": [
    "## Mapping between motor and joint torque\n",
    "\n",
    "Forward problem: given motor angle vector relative to the reference, we can compute the joint angles using the transmission matrix as mentioned above.\n",
    "\n",
    "Inverse problem: given a desired joint configuration, we can drive the finger to the configuration by using a controller that maps the joint error to $\\tau$ which we use to\n",
    "do torque control until we reach position\n",
    "\n",
    "Torques on the joints due to gravity, assuming the centroid of the link is located at $x_c$ from the corresponding\n",
    "joint:\n",
    "\n",
    "$\n",
    "\\tau_1 = m_1 x_{c,1} cos(\\theta_1) + m_2(x_{c,1} cos(\\theta_1) + x_{c,2}cos(\\theta_1 + \\theta_2))\n",
    "$\n",
    "\n",
    "$\n",
    "\\tau_2 =  m_2 x_{c,2} cos(\\theta_1+\\theta_2)\n",
    "$\n",
    "\n",
    "\n",
    "We can use the equation $\\tau = Af$ to get the relation between motor and joint torques. This tells us the motor torques to exert in order to get the torques on the joints. We should also add the torque due to gravity, if applicable.\n",
    "\n",
    "$\\tau_j = AR^{-1} \\tau_m$\n",
    "\n",
    "\n",
    "$\n",
    "\\tau_m = R A^\\dag \\tau_j\n",
    "$\n",
    "\n",
    "Note that the antagonistic configuration of the tendons means that increasing motor torque does not necessarily mean that we increase joint torque. Consider the situation where we increase the tension in tendons 1 and 2 simultaneously, these will cancel out and provide no torque. This should not be an issue using the above equation as the solution will be unique. However, this example illustrates that going the other way, $\\tau_m \\rightarrow \\tau_j$, cannot be done uniquely.\n",
    "\n",
    "\n",
    "First, let the error be computed based off the joint positions estimated from the motor positions $\\phi$. Then, design a controller using this error for joint torque control and use the mapping to get motor torques.\n",
    "\n",
    "$\n",
    "e = (\\theta_d - \\theta(\\phi))\n",
    "$ \n",
    "\n",
    "$\n",
    "\\tau_j = PID(e)\n",
    "$\n",
    "\n",
    "$\n",
    "\\tau_m = R A^\\dag \\tau_j\n",
    "$\n",
    "\n",
    "Note that we can hardcode the matrices, including the pseudoinverses, for speed since they are not dependent on joint configurations."
   ]
  },
  {
   "cell_type": "code",
   "execution_count": 130,
   "metadata": {},
   "outputs": [],
   "source": [
    "#matrix for mapping between joint->motor torque\n",
    "J_jm = R * Apinv\n",
    "npJ_jm = np.array(J_jm.subs(subslist))"
   ]
  },
  {
   "cell_type": "code",
   "execution_count": 131,
   "metadata": {},
   "outputs": [
    {
     "data": {
      "text/latex": [
       "$\\displaystyle 95.1578947368421$"
      ],
      "text/plain": [
       "95.1578947368421"
      ]
     },
     "execution_count": 131,
     "metadata": {},
     "output_type": "execute_result"
    }
   ],
   "source": [
    "max_torque = G*ts\n",
    "max_force = max_torque.subs(subslist) / R_m.subs(subslist)\n",
    "max_force"
   ]
  },
  {
   "cell_type": "code",
   "execution_count": 132,
   "metadata": {},
   "outputs": [
    {
     "data": {
      "text/latex": [
       "$\\displaystyle \\left[\\begin{matrix}-0.903157894736842 & -0.903157894736842 & 0.903157894736842\\\\-0.903157894736842 & 0.903157894736842 & 0\\end{matrix}\\right]$"
      ],
      "text/plain": [
       "Matrix([\n",
       "[-0.903157894736842, -0.903157894736842, 0.903157894736842],\n",
       "[-0.903157894736842,  0.903157894736842,                 0]])"
      ]
     },
     "execution_count": 132,
     "metadata": {},
     "output_type": "execute_result"
    }
   ],
   "source": [
    "#motor to joint torques:\n",
    "J_mj = A*R.inv()\n",
    "J_mj.subs(subslist)"
   ]
  },
  {
   "cell_type": "markdown",
   "metadata": {},
   "source": [
    "## Force/torque command offsetting\n",
    "\n",
    "When assigning motor torque we need to worry about 1) negative forces in the tendons and 2) exceeding maximum force of the motor. \n",
    "\n",
    "To compute the tendon forces required for a joint torque, we first use:\n",
    "\n",
    "$\n",
    "f = A^\\dag \\tau_j\n",
    "$\n",
    "\n",
    "However, some entries of $f$ might be negative and so the requested force is not physically achievable because we can't compress a tendon.\n",
    "\n",
    "Note that the solution of f to produce a joint torque is not unique; in fact, there is a null space in the structure matrix which means that certain combinations of forces will result in 0 torque (ex. for joint 2, if $f_1 = f_2$, we have $\\tau_2 =0$). The physical interpretation of the null space is that it is the part of tendon force space that results in net 0 joint torques. Let us denote members of the null space as $f_o$.\n",
    "\n",
    "$\\tau_j=Af_{o}=0$\n",
    "\n",
    "This means that adding an offset in the null space will not alter the joint torque produced. Due to the structure matrix, an offset on f1 and f2 will cancel on joint 2, but we will need to apply twice the offset on force 3 to cancel the offsets on f1 and f2. For this system, the null space is a line (ie. 1D subspace) and the offset must be in the form:\n",
    "\n",
    "$\n",
    "f_{o} = \\alpha \\begin{bmatrix}\n",
    "1 \\\\\n",
    "1 \\\\\n",
    "2 \\\\\n",
    "\\end{bmatrix}\n",
    "$\n",
    "\n",
    "Where $\\alpha$ is a scaling factor chosen to ensure that the minimum commanded force is at least some small positive number.\n",
    "\n",
    "Then, we can convert this force to motor torque by using the matrix of motor pulley radii\n",
    "$\n",
    "\\tau_m = R(f+f_{o})\n",
    "$\n",
    "\n",
    "Finally, check if any entries in $\\tau_m$ exceed the maximum torque of the motor and scale the commanded motor torques so that $max(\\tau_m) \\le \\tau_{max}$."
   ]
  },
  {
   "cell_type": "code",
   "execution_count": 133,
   "metadata": {},
   "outputs": [
    {
     "name": "stdout",
     "output_type": "stream",
     "text": [
      "joint torque commands [0.1 0.1]\n",
      "raw force command [-9.71250971250971 1.94250194250194 3.88500388500389]\n",
      "forces after offset [0 11.6550116550117 23.3100233100233]\n",
      "commanded forces [0 5.00000000000000 10.0000000000000]\n",
      "resulting joint torques [0.0429000000000000 0.0429000000000000]\n"
     ]
    }
   ],
   "source": [
    "#Example for force adjustment procedure\n",
    "\n",
    "#we want a joint torque of .1Nm for each joint\n",
    "tj_test = np.array([.1, .1])\n",
    "\n",
    "#np in front denotes numerical version of the variables\n",
    "npRinv = np.array(R.inv().subs(subslist)) #pulley matrix\n",
    "npA = np.array(A.subs(subslist)) #structure matrix\n",
    "\n",
    "#calculate initial force\n",
    "f_raw = npRinv @ npJ_jm @ tj_test\n",
    "print('joint torque commands', tj_test)\n",
    "print('raw force command', f_raw)\n",
    "\n",
    "f_null = np.array([1, 1, 2])\n",
    "scale = 0\n",
    "\n",
    "#calculate the offset if needed\n",
    "if(np.min(f_raw) < 0):\n",
    "    min_ind = np.argmin(f_raw)\n",
    "    scale = -np.min(f_raw) / f_null[min_ind]    \n",
    "f_o = scale * f_null\n",
    "\n",
    "#adjusted force\n",
    "f_a = f_raw + f_o\n",
    "print('forces after offset', f_a)\n",
    "    \n",
    "#check saturation of motor torque\n",
    "f_max = 10 #example maximum force; if we calculate using motor stall torque, fmax = 100N\n",
    "\n",
    "#scale if needed\n",
    "sat_scale = 1\n",
    "if(np.max(f_a) > f_max):\n",
    "    max_ind = np.argmax(f_a)\n",
    "    sat_scale = f_max / np.max(f_a)\n",
    "    \n",
    "f_out = sat_scale * f_a\n",
    "print('commanded forces', f_out)\n",
    "print('resulting joint torques', npA @ f_out)"
   ]
  },
  {
   "cell_type": "markdown",
   "metadata": {},
   "source": [
    "## Velocity and force kinematics\n",
    "\n",
    "We now have a way to compute the joint angles based on encoder information. This section will focus on using this information to find the fingertip position with forward kinematics and analyzing the static force that can be exerted by the fingertip. \n",
    "\n",
    "Reference: Modern Robotics (textbook from ME449)\n",
    "\n",
    "Let:\n",
    "\n",
    "$x_{ee}$ be the fingertip (end-effector) position in the base/world frame\n",
    "\n",
    "$J_{ee}$ be the fingertip Jacobian representing sensitivity of the fingertip velocity to joint velocity\n",
    "\n",
    "For the simple 2R robot finger, computing the fingertip position given the joint angles $\\theta$ and the link lengths $L_1$ and $L_2$ yields the following:\n",
    "\n",
    "$\n",
    "\\mathbf{x} =  \n",
    "\\begin{bmatrix}\n",
    "L_1cos(\\theta_1) + L_2cos(\\theta_1 + \\theta_2)\\\\\n",
    "L_1sin(\\theta_1) + L_2sin(\\theta_1 + \\theta_2)\\\\\n",
    "\\end{bmatrix} =h(\\theta(t))\n",
    "$\n",
    "\n",
    "We can compute the Jacobian $J_{ee}$ which is defined:\n",
    "$\n",
    "\\dot{x}_{ee} = J_{ee}(\\theta)\\dot{\\theta}\n",
    "$\n",
    "\n",
    "$\n",
    "\\dot{x}_{ee} = \\frac{\\partial h}{\\partial \\theta} \\frac{\\partial \\theta}{\\partial t}\n",
    "$\n",
    "\n",
    "In our case:\n",
    "$\n",
    "J_{ee}=\n",
    "\\begin{bmatrix}\n",
    "-L_1sin(\\theta_1)- L_2sin(\\theta_1 + \\theta_2) & -L_2sin(\\theta_1 + \\theta_2)\\\\\n",
    "L_1cos(\\theta_1) + L_2cos(\\theta_1 + \\theta_2) & L_2cos(\\theta_1 + \\theta_2) \\\\\n",
    "\\end{bmatrix}\n",
    "$\n"
   ]
  },
  {
   "cell_type": "markdown",
   "metadata": {},
   "source": [
    "As defined above, the end effector jacobian shows the sensitivity of end effector velocity to joint velocity. Now, we want to relate joint torque to fingertip force. We can do so by power conservation:\n",
    "\n",
    "Note that in this section, $f$ represents the fingertip force vector rather than tendon forces.\n",
    "\n",
    "$\n",
    "f^T\\dot{x} = \\tau^T \\dot{\\theta}\n",
    "$\n",
    "\n",
    "$\n",
    "f^TJ\\dot{\\theta} = \\tau^T \\dot{\\theta}\n",
    "$\n",
    "\n",
    "$\n",
    "f^TJ = \\tau^T\n",
    "$\n",
    "\n",
    "$\\tau = J^Tf$\n",
    "\n",
    "$f = {J^T}^\\dag \\tau$\n",
    "\n",
    "We can now relate joint torques to the fingertip force. However, the joints are not driven directly by motors; instead, the wiring of the tendons means that there is coupling between the motor inputs and the corresponding tendon torques. So, before we can find the maximum force which can be exerted, we must find the feasible torque space.\n",
    "\n",
    "I assume that each motor can output any torque between $\\tau_m \\in G[-\\tau_s, \\tau_s]$. In the 3D motor torque space, the feasible torques are a cube.\n"
   ]
  },
  {
   "cell_type": "code",
   "execution_count": 134,
   "metadata": {},
   "outputs": [
    {
     "data": {
      "text/latex": [
       "$\\displaystyle \\left[\\begin{matrix}- L_{1} \\sin{\\left(\\theta_{1} \\right)} - L_{2} \\sin{\\left(\\theta_{1} + \\theta_{2} \\right)} & - L_{2} \\sin{\\left(\\theta_{1} + \\theta_{2} \\right)}\\\\L_{1} \\cos{\\left(\\theta_{1} \\right)} + L_{2} \\cos{\\left(\\theta_{1} + \\theta_{2} \\right)} & L_{2} \\cos{\\left(\\theta_{1} + \\theta_{2} \\right)}\\end{matrix}\\right]$"
      ],
      "text/plain": [
       "Matrix([\n",
       "[-L_1*sin(\\theta_1) - L_2*sin(\\theta_1 + \\theta_2), -L_2*sin(\\theta_1 + \\theta_2)],\n",
       "[ L_1*cos(\\theta_1) + L_2*cos(\\theta_1 + \\theta_2),  L_2*cos(\\theta_1 + \\theta_2)]])"
      ]
     },
     "execution_count": 134,
     "metadata": {},
     "output_type": "execute_result"
    }
   ],
   "source": [
    "Jee = sym.Matrix([[-L1*sym.sin(th1) - L2*sym.sin(th1+th2), - L2*sym.sin(th1+th2)],\n",
    "                  [L1*sym.cos(th1) + L2*sym.cos(th1+th2), L2*sym.cos(th1+th2)]])\n",
    "Jee"
   ]
  },
  {
   "cell_type": "code",
   "execution_count": 145,
   "metadata": {},
   "outputs": [
    {
     "data": {
      "text/latex": [
       "$\\displaystyle \\left[\\begin{matrix}\\frac{\\cos{\\left(\\theta_{1} + \\theta_{2} \\right)}}{L_{1} \\sin{\\left(\\theta_{2} \\right)}} & - \\frac{L_{1} \\cos{\\left(\\theta_{1} \\right)} + L_{2} \\cos{\\left(\\theta_{1} + \\theta_{2} \\right)}}{L_{1} L_{2} \\sin{\\left(\\theta_{2} \\right)}}\\\\\\frac{\\sin{\\left(\\theta_{1} + \\theta_{2} \\right)}}{L_{1} \\sin{\\left(\\theta_{2} \\right)}} & - \\frac{L_{1} \\sin{\\left(\\theta_{1} \\right)} + L_{2} \\sin{\\left(\\theta_{1} + \\theta_{2} \\right)}}{L_{1} L_{2} \\sin{\\left(\\theta_{2} \\right)}}\\end{matrix}\\right]$"
      ],
      "text/plain": [
       "Matrix([\n",
       "[cos(\\theta_1 + \\theta_2)/(L_1*sin(\\theta_2)), -(L_1*cos(\\theta_1) + L_2*cos(\\theta_1 + \\theta_2))/(L_1*L_2*sin(\\theta_2))],\n",
       "[sin(\\theta_1 + \\theta_2)/(L_1*sin(\\theta_2)), -(L_1*sin(\\theta_1) + L_2*sin(\\theta_1 + \\theta_2))/(L_1*L_2*sin(\\theta_2))]])"
      ]
     },
     "metadata": {},
     "output_type": "display_data"
    }
   ],
   "source": [
    "JeeT_pinv = Jee.T.pinv()\n",
    "JeeT_pinv = sym.simplify(JeeT_pinv)\n",
    "display(JeeT_pinv)"
   ]
  },
  {
   "cell_type": "code",
   "execution_count": 144,
   "metadata": {},
   "outputs": [
    {
     "ename": "AttributeError",
     "evalue": "'NoneType' object has no attribute 'simplify'",
     "output_type": "error",
     "traceback": [
      "\u001b[1;31m---------------------------------------------------------------------------\u001b[0m",
      "\u001b[1;31mAttributeError\u001b[0m                            Traceback (most recent call last)",
      "Cell \u001b[1;32mIn[144], line 1\u001b[0m\n\u001b[1;32m----> 1\u001b[0m JeeT_pinv \u001b[38;5;241m=\u001b[39m \u001b[43mJeeT_pinv\u001b[49m\u001b[38;5;241;43m.\u001b[39;49m\u001b[43msimplify\u001b[49m()\n\u001b[0;32m      2\u001b[0m display(JeeT_pinv)\n",
      "\u001b[1;31mAttributeError\u001b[0m: 'NoneType' object has no attribute 'simplify'"
     ]
    }
   ],
   "source": [
    "#obtain an expression for maximization of the force vector\n"
   ]
  },
  {
   "cell_type": "code",
   "execution_count": 136,
   "metadata": {},
   "outputs": [],
   "source": [
    "#sample motor torques to get feasible joint torques\n",
    "n = 20\n",
    "max_motor_output_torque = G * ts\n",
    "max_motor_torque_val = float(max_motor_output_torque.subs(subslist))\n",
    "\n",
    "tm = np.linspace(-max_motor_torque_val, max_motor_torque_val, n)\n",
    "\n",
    "tau_j = np.empty((n**3, 2))\n",
    "\n",
    "npJ_mj = np.array(J_mj.subs(subslist))\n",
    "\n",
    "c = 0\n",
    "for t1 in tm:\n",
    "    for t2 in tm:\n",
    "        for t3 in tm:\n",
    "            tau_j[c] = npJ_mj @ np.array([t1,t2,t3])\n",
    "            c+=1"
   ]
  },
  {
   "cell_type": "code",
   "execution_count": 137,
   "metadata": {},
   "outputs": [
    {
     "data": {
      "text/plain": [
       "Text(0, 0.5, 't2')"
      ]
     },
     "execution_count": 137,
     "metadata": {},
     "output_type": "execute_result"
    },
    {
     "data": {
      "image/png": "[encoded data removed]",
      "text/plain": [
       "<Figure size 640x480 with 1 Axes>"
      ]
     },
     "metadata": {},
     "output_type": "display_data"
    }
   ],
   "source": [
    "plt.scatter(tau_j[:,0], tau_j[:,1])\n",
    "plt.title('Feasible joint torques')\n",
    "plt.xlabel('t1')\n",
    "plt.ylabel('t2')"
   ]
  },
  {
   "cell_type": "code",
   "execution_count": 138,
   "metadata": {},
   "outputs": [
    {
     "data": {
      "text/latex": [
       "$\\displaystyle G \\left(\\frac{2 R_{p} \\tau_{s}}{R_{m} \\left(L_{1} + L_{2}\\right)} + \\frac{R_{p} \\tau_{s}}{L_{2} R_{m}}\\right)$"
      ],
      "text/plain": [
       "G*(2*R_p*\\tau_s/(R_m*(L_1 + L_2)) + R_p*\\tau_s/(L_2*R_m))"
      ]
     },
     "execution_count": 138,
     "metadata": {},
     "output_type": "execute_result"
    }
   ],
   "source": [
    "#estimating the maximum fingertip force\n",
    "tmx1 = 2*R_p*ts/R_m \n",
    "tmx2 = R_p*ts/R_m\n",
    "Fmx0 = (tmx1 / (L1+L2) + tmx2 / L2) * G\n",
    "Fmx0"
   ]
  },
  {
   "cell_type": "code",
   "execution_count": 139,
   "metadata": {},
   "outputs": [
    {
     "name": "stdout",
     "output_type": "stream",
     "text": [
      "absolute max torque in N at fingertip, fully extended (need to verify)\n"
     ]
    },
    {
     "data": {
      "text/latex": [
       "$\\displaystyle G \\left(\\frac{2 R_{p} \\tau_{s}}{R_{m} \\left(L_{1} + L_{2}\\right)} + \\frac{R_{p} \\tau_{s}}{L_{2} R_{m}}\\right) = 45.6959011226697$"
      ],
      "text/plain": [
       "Eq(G*(2*R_p*\\tau_s/(R_m*(L_1 + L_2)) + R_p*\\tau_s/(L_2*R_m)), 45.6959011226697)"
      ]
     },
     "metadata": {},
     "output_type": "display_data"
    }
   ],
   "source": [
    "feq = sym.Eq(Fmx0,Fmx0.subs(subslist))\n",
    "print('absolute max torque in N at fingertip, fully extended (need to verify)')\n",
    "display(feq)"
   ]
  },
  {
   "cell_type": "markdown",
   "metadata": {},
   "source": [
    "Note from luke about control following presentations on 2/14:\n",
    "\n",
    "We must never allow the force in the tendon to be <0 because this is equivalent to pushing on a tendon and therefore introduces slack. The torque command may be negative (ie. letting the motor let go of some tendon length) but tension should be maintained in the tendons. This can be done by adding an offset if there is a request for negative force. For example, if the controller requests force [5, -3] on tendons 1 and 2, we should ensure non-negative force by adding an offset so we send force = [8, 0] to the motors. "
   ]
  }
 ],
 "metadata": {
  "kernelspec": {
   "display_name": "Python 3",
   "language": "python",
   "name": "python3"
  },
  "language_info": {
   "codemirror_mode": {
    "name": "ipython",
    "version": 3
   },
   "file_extension": ".py",
   "mimetype": "text/x-python",
   "name": "python",
   "nbconvert_exporter": "python",
   "pygments_lexer": "ipython3",
   "version": "3.11.1"
  }
 },
 "nbformat": 4,
 "nbformat_minor": 2
}
