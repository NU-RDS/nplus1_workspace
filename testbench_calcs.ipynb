{
 "cells": [
  {
   "cell_type": "code",
   "execution_count": 1,
   "metadata": {},
   "outputs": [],
   "source": [
    "import numpy as np\n",
    "import sympy as sym"
   ]
  },
  {
   "cell_type": "code",
   "execution_count": 2,
   "metadata": {},
   "outputs": [],
   "source": [
    "#assume identical motor and joint pulleys\n",
    "R_p, R_m = sym.symbols(r'R_p, R_m')\n",
    "subslist = [(R_m, 9 ), (R_p, 9)]"
   ]
  },
  {
   "attachments": {
    "image.png": {
     "image/png": "[encoded data removed]"
    }
   },
   "cell_type": "markdown",
   "metadata": {},
   "source": [
    "## Structure matrix and transmission jacobian\n",
    "\n",
    "#### Definitions:\n",
    "Let...\n",
    "- $\\mathbf{A}$ be the structure matrix\n",
    "- $f$ be the vector of tension forces in the tendons, \n",
    "- $\\theta$ be the joint angle vector,\n",
    "- $\\tau$ be the joint torque vector, \n",
    "- $v$ be the tendon linear velocity vector, \n",
    "- $\\phi$ be the motor angle vector\n",
    "\n",
    "\n",
    "By definition:\n",
    "$\\mathbf{\\tau} = \\mathbf{Af}$\n",
    "\n",
    "Now apply conservation of power:\n",
    "\n",
    "$\n",
    "\\dot{\\theta}^T\\tau = v^Tf\n",
    "$\n",
    "\n",
    "$\n",
    "\\dot{\\theta}^T\\mathbf{Af} = v^Tf\n",
    "$\n",
    "\n",
    "$\n",
    "\\dot{\\theta}^T\\mathbf{A} = v^T\n",
    "$\n",
    "\n",
    "Note the relation between the linear speeds of the tendons and motor angular velocity:\n",
    "$\n",
    "v=R\\dot{\\phi}\n",
    "$\n",
    "\n",
    "To get the joint angle mapping, we can integrate but the constant of integration means the joint and motor\n",
    "angles are relative to a reference point which we can get by using the hardstop.\n",
    "\n",
    "$\n",
    "\\theta^T\\mathbf{A} = \\mathbf{R}\\phi\n",
    "$\n",
    "\n",
    "$\n",
    "\\mathbf{A}^T\\theta = \\mathbf{R}\\phi\n",
    "$\n",
    "\n",
    "$\n",
    "\\theta = {\\mathbf{A}^T}^\\dag \\mathbf{R} \\phi\n",
    "$\n",
    "\n",
    "Therefore, the transmission jacobian is computed: $\\mathbf{T} =  {\\mathbf{A}^T}^\\dag \\mathbf{R} $\n",
    "\n",
    "![image.png](attachment:image.png)\n",
    "\n",
    "Assuming identical pulleys on the routing diagram, we have the structure matrix A:\n",
    "\n",
    "$\\mathbf{A}=\n",
    "\\begin{bmatrix}\n",
    "-R & -R & R \\\\\n",
    "-R & R & 0 \\\\\n",
    "\\end{bmatrix}\n",
    "$\n",
    "\n",
    "The pseudoinverse of $\\mathbf{A}^T$ is used to compute the transmission jacobian:\n",
    "\n",
    "$\n",
    "{\\mathbf{A}^T}^\\dag =\n",
    "\\begin{bmatrix}\n",
    "-\\frac{1}{3R} & -\\frac{1}{3R} & \\frac{1}{3R} \\\\\n",
    "-\\frac{1}{2R} & \\frac{1}{2R} & 0 \\\\\n",
    "\\end{bmatrix}\n",
    "$\n",
    "\n",
    "**Note that the pinv() function in sympy doesn't give us the $A^\\dag$ that we want"
   ]
  },
  {
   "cell_type": "code",
   "execution_count": 3,
   "metadata": {},
   "outputs": [],
   "source": [
    "#structure matrix\n",
    "A = sym.Matrix([[-R_p, -R_p, R_p],\n",
    "                [-R_p, R_p, 0]])\n",
    "\n",
    "Atpinv = sym.Matrix([[-1/(3*R_p), -1/(3*R_p), 1/(3*R_p)],\n",
    "                [-1/(2*R_p), 1/(2*R_p), 0]])\n",
    "\n",
    "Apinv = Atpinv.T\n",
    "\n",
    "# A = sym.Matrix([[R_p, R_p, -R_p],\n",
    "#                 [0, R_p, -R_p]])\n",
    "\n",
    "R = sym.eye(3) * R_m #motor shaft matrix\n",
    "\n",
    "#transmission jacobian\n",
    "T = Atpinv * R"
   ]
  },
  {
   "cell_type": "code",
   "execution_count": 4,
   "metadata": {},
   "outputs": [
    {
     "data": {
      "text/latex": [
       "$\\displaystyle \\left[\\begin{matrix}- R_{p} & - R_{p} & R_{p}\\\\- R_{p} & R_{p} & 0\\end{matrix}\\right]$"
      ],
      "text/plain": [
       "Matrix([\n",
       "[-R_p, -R_p, R_p],\n",
       "[-R_p,  R_p,   0]])"
      ]
     },
     "metadata": {},
     "output_type": "display_data"
    },
    {
     "data": {
      "text/latex": [
       "$\\displaystyle \\left[\\begin{matrix}- \\frac{1}{3 R_{p}} & - \\frac{1}{3 R_{p}} & \\frac{1}{3 R_{p}}\\\\- \\frac{1}{2 R_{p}} & \\frac{1}{2 R_{p}} & 0\\end{matrix}\\right]$"
      ],
      "text/plain": [
       "Matrix([\n",
       "[-1/(3*R_p), -1/(3*R_p), 1/(3*R_p)],\n",
       "[-1/(2*R_p),  1/(2*R_p),         0]])"
      ]
     },
     "metadata": {},
     "output_type": "display_data"
    }
   ],
   "source": [
    "#confirm the structure matrix and the inverse is correct\n",
    "display(A)\n",
    "display(Atpinv)\n",
    "#display(Atpinv * A.T)"
   ]
  },
  {
   "cell_type": "code",
   "execution_count": 5,
   "metadata": {},
   "outputs": [
    {
     "data": {
      "text/latex": [
       "$\\displaystyle \\left[\\begin{matrix}- \\frac{1}{3} & - \\frac{1}{3} & \\frac{1}{3}\\\\- \\frac{1}{2} & \\frac{1}{2} & 0\\end{matrix}\\right]$"
      ],
      "text/plain": [
       "Matrix([\n",
       "[-1/3, -1/3, 1/3],\n",
       "[-1/2,  1/2,   0]])"
      ]
     },
     "execution_count": 5,
     "metadata": {},
     "output_type": "execute_result"
    }
   ],
   "source": [
    "T.subs(subslist) #radii in mm"
   ]
  },
  {
   "cell_type": "markdown",
   "metadata": {},
   "source": [
    "## Forward and inverse control\n",
    "\n",
    "Forward problem: given motor angle vector relative to the reference, we can compute the joint angles using the transmission matrix as mentioned above.\n",
    "\n",
    "Inverse problem: given a desired joint configuration, we can drive the finger to the configuration by using a controller that maps the joint error to $\\tau$ which we use to\n",
    "do torque control until we reach position\n",
    "\n",
    "Torques on the joints due to gravity, assuming the centroid of the link is located at $x_c$ from the corresponding\n",
    "joint:\n",
    "\n",
    "$\n",
    "\\tau_1 = m_1 x_{c,1} cos(\\theta_1) + m_2(x_{c,1} cos(\\theta_1) + x_{c,2}cos(\\theta_1 + \\theta_2))\n",
    "$\n",
    "\n",
    "$\n",
    "\\tau_2 =  m_2 x_{c,2} cos(\\theta_1+\\theta_2)\n",
    "$\n",
    "\n",
    "\n",
    "We can use the equation $\\tau = Af$ to get the relation between motor and joint torques. This tells us the motor torques to exert in order to get the torques on the joints. We should also add the torque due to gravity, if applicable.\n",
    "\n",
    "$\n",
    "\\tau_m = R^{-1} A^\\dag \\tau_j\n",
    "$\n",
    "\n",
    "Note that the antagonistic configuration of the tendons means that increasing motor torque does not necessarily mean that we increase joint torque. Consider the situation where we increase the tension in tendons 1 and 2 simultaneously, these will cancel out and provide no torque. This should not be an issue using the above equation as the solution will be unique. However, this example illustrates that going the other way, $\\tau_m \\rightarrow \\tau_j$, cannot be done uniquely.\n",
    "\n",
    "\n",
    "First, let the error be computed based off the joint positions estimated from the motor positions $\\phi$. \n",
    "\n",
    "$\n",
    "e = (\\theta_d - \\theta(\\phi))\n",
    "$ \n",
    "\n",
    "Then, design a controller using this error for joint torque control:\n",
    "\n",
    "$\n",
    "\\tau_j = PID(e)\n",
    "$\n",
    "\n",
    "Finally, we get the motor torques:\n",
    "\n",
    "$\n",
    "\\tau_m = R^{-1} A^\\dag \\tau_j\n",
    "$\n",
    "\n",
    "Note that we can hardcode the matrices, including the pseudoinverses, for speed since they are not dependent on joint configurations."
   ]
  },
  {
   "cell_type": "code",
   "execution_count": 6,
   "metadata": {},
   "outputs": [
    {
     "data": {
      "text/latex": [
       "$\\displaystyle \\left[\\begin{matrix}- \\frac{1}{3 R_{m} R_{p}} & - \\frac{1}{2 R_{m} R_{p}}\\\\- \\frac{1}{3 R_{m} R_{p}} & \\frac{1}{2 R_{m} R_{p}}\\\\\\frac{1}{3 R_{m} R_{p}} & 0\\end{matrix}\\right]$"
      ],
      "text/plain": [
       "Matrix([\n",
       "[-1/(3*R_m*R_p), -1/(2*R_m*R_p)],\n",
       "[-1/(3*R_m*R_p),  1/(2*R_m*R_p)],\n",
       "[ 1/(3*R_m*R_p),              0]])"
      ]
     },
     "execution_count": 6,
     "metadata": {},
     "output_type": "execute_result"
    }
   ],
   "source": [
    "R.inv() * Apinv"
   ]
  },
  {
   "cell_type": "markdown",
   "metadata": {},
   "source": [
    "## dynamics-based model of the finger\n",
    "\n",
    "polar moment of interia / angular inertia from CAD, neglect friction"
   ]
  }
 ],
 "metadata": {
  "kernelspec": {
   "display_name": "Python 3",
   "language": "python",
   "name": "python3"
  },
  "language_info": {
   "codemirror_mode": {
    "name": "ipython",
    "version": 3
   },
   "file_extension": ".py",
   "mimetype": "text/x-python",
   "name": "python",
   "nbconvert_exporter": "python",
   "pygments_lexer": "ipython3",
   "version": "3.11.1"
  }
 },
 "nbformat": 4,
 "nbformat_minor": 2
}
